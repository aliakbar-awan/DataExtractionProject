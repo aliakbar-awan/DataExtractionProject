{
 "cells": [
  {
   "cell_type": "code",
   "execution_count": null,
   "metadata": {},
   "outputs": [],
   "source": [
    "#Scrapping a website\n",
    "import requests\n",
    "from bs4 import BeautifulSoup\n",
    "\n",
    "url = \"https://arynews.tv/en/category/international-2/\"\n",
    "webpage = requests.get(url)\n",
    "\n",
    "soup = BeautifulSoup(webpage.content,'html5lib')\n",
    "#html_file = soup.prettify()\n",
    "\n",
    "news_head = soup.find_all('a','href',)\n",
    "new_desc = soup.find_all('p')\n",
    "rows = soup.select('h2 a ')\n",
    "row = rows[0]\n",
    "head = row.select('h1','topic-sec-item-head')\n",
    "\n",
    "print(head)\n"
   ]
  },
  {
   "cell_type": "code",
   "execution_count": null,
   "metadata": {},
   "outputs": [],
   "source": [
    "#Since i failed in scrapping so i created files through below file generator:\n",
    "\n",
    "#File generator: will ask you for content of file 1 and will make te file and keep on making files untill you enter '0'\n",
    "\n",
    "#Since i have created my 100 files ones, so i have commented it now!\n",
    "\n",
    "#n = 1\n",
    "#content ='1'\n",
    "#while(content is not '0'):\n",
    "    #file_name = \"File\" + str(n) + \".txt\"\n",
    "    #file = open(file_name,\"w+\")\n",
    "    #print(\"Enter content of file\",n,\": \")\n",
    "    #n+=1\n",
    "    #content = input()\n",
    "    #file.write(content)\n",
    "    #file.close()\n",
    "    "
   ]
  },
  {
   "cell_type": "code",
   "execution_count": null,
   "metadata": {},
   "outputs": [],
   "source": [
    "\n",
    "#I have made 100 files of news containg heading and description, separated by '*'\n",
    "\n",
    "import numpy as np\n",
    "Dictionary = dict() #dictionary of all unique words with their total repetition count in all files\n",
    "\n",
    "i=1\n",
    "total_no_of_files = 100\n",
    "while i<=total_no_of_files:\n",
    "    file = \"File\" + str(i) + \".txt\"\n",
    "    read_file=open(file)\n",
    "    for line in read_file:\n",
    "        words = line.split()\n",
    "        for word in words:\n",
    "            if word is not '*':\n",
    "                if word[len(word)-1]=='.':\n",
    "                    word = word[:len(word)-1]\n",
    "                if word[len(word)-1]==':':\n",
    "                    word = word[:len(word)-1]\n",
    "                if word[len(word)-1]==',':\n",
    "                    word = word[:len(word)-1]\n",
    "                word = word.lower()\n",
    "                if word not in Dictionary:\n",
    "                    Dictionary[word]=1\n",
    "                else:\n",
    "                    Dictionary[word]+=1\n",
    "    \n",
    "    i+=1\n",
    "\n",
    "print(Dictionary)\n"
   ]
  },
  {
   "cell_type": "code",
   "execution_count": 2,
   "metadata": {},
   "outputs": [
    {
     "name": "stdout",
     "output_type": "stream",
     "text": [
      "{'over': 1, 'a': 2, 'million': 3, 'protesters': 4, 'demand': 5, 'president’s': 6, 'resignation': 7, 'in': 8, 'chile': 9, 'more': 10, 'than': 11, 'one': 12, 'people': 13, 'took': 14, 'to': 15, 'the': 16, 'streets': 17, 'friday': 18, 'for': 19, 'largest': 20, 'protests': 21, 'week': 22, 'of': 23, 'deadly': 24, 'demonstrations': 25, 'demanding': 26, 'economic': 27, 'reforms': 28, 'majority': 29, '39': 30, 'uk': 31, 'truck': 32, 'victims': 33, 'likely': 34, 'from': 35, 'vietnam': 36, 'priest': 37, 'discovery': 38, 'bodies': 39, '-': 40, '38': 41, 'adults': 42, 'and': 43, 'teenager': 44, 'was': 45, 'made': 46, 'on': 47, 'wednesday': 48, 'after': 49, 'emergency': 50, 'services': 51, 'were': 52, 'alerted': 53, 'container': 54, 'an': 55, 'industrial': 56, 'site': 57, 'grays': 58, 'curfew': 59, 'continues': 60, '83rd': 61, 'consecutive': 62, 'day': 63, 'indian': 64, 'occupied': 65, 'kashmir': 66, 'kashmiris': 67, 'continue': 68, 'observe': 69, 'shutdown': 70, 'as': 71, 'silent': 72, 'protest': 73, 'against': 74, 'india’s': 75, 'recent': 76, 'actions': 77, 'despite': 78, 'occupation': 79, 'authorities’': 80, 'efforts': 81, 'restore': 82, 'normalcy': 83, 'territory': 84, 'man': 85, 'woman': 86, 'arrested': 87, 'human': 88, 'trafficking': 89, 'deaths': 90, '25-year-old': 91, 'driver': 92, 'remains': 93, 'custody': 94, 'being': 95, 'following': 96, 'grim': 97, 'back': 98, 'his': 99, 'refrigerated': 100, '300': 101, 'russian': 102, 'police': 103, 'arrive': 104, 'syria': 105, 'border': 106, 'patrols': 107, 'moscow': 108, '20': 109, 'armoured': 110, 'vehicles': 111, 'also': 112, 'sent': 113, 'sc': 114, 'grills': 115, 'bjp': 116, 'govt': 117, 'not': 118, 'lifting': 119, 'curbs': 120, '“how': 121, 'many': 122, 'days': 123, 'you': 124, 'want': 125, 'restrictions?,\"': 126, 'asked': 127, 'boeing': 128, 'design': 129, 'flaw': 130, '‘a': 131, 'factor': 132, 'lion': 133, 'air': 134, 'crash’': 135, 'disaster': 136, 'followed': 137, 'months': 138, 'later': 139, 'by': 140, 'second': 141, 'crash': 142, '--': 143, 'involving': 144, 'same': 145, 'model': 146, 'aircraft': 147, 'when': 148, 'ethiopian': 149, 'airlines': 150, 'plane': 151, 'went': 152, 'down': 153, 'with': 154, '157': 155, 'aboard': 156, 'un': 157, 'chief': 158, 'reiterates': 159, 'call': 160, 'settlement': 161, 'dispute': 162, 'through': 163, 'talks': 164, 'united': 165, 'nations': 166, 'secretary': 167, 'general': 168, 'antonio': 169, 'guterres': 170, 'be': 171, 'resolved': 172, 'dialogue': 173, 'firecracker': 174, 'hub': 175, 'hit': 176, 'anti-pollution': 177, 'drive': 178, 'their': 179, 'smoke': 180, 'combines': 181, 'other': 182, 'emissions': 183, 'turn': 184, \"india's\": 185, 'cities': 186, 'among': 187, \"world's\": 188, 'most': 189, 'polluted': 190, 'freedoms': 191, 'usurped': 192, '82nd': 193, 'annexation': 194, 'normal': 195, 'life': 196, 'remain': 197, 'out': 198, 'gear': 199, 'valley': 200, 'muslim': 201, 'areas': 202, 'jammu': 203, 'region': 204, 'today': 205, 'pm': 206, 'offers': 207, 'dec': 208, '12': 209, 'election': 210, 'break': 211, 'brexit': 212, 'impasse': 213, 'it': 214, 'had': 215, 'been': 216, 'first': 217, 'time': 218, 'that': 219, 'house': 220, 'commons': 221, 'backed': 222, 'any': 223, 'proposal': 224, 'since': 225, '2016': 226, 'eu': 227, 'referendum': 228, 'president': 229, 'meet': 230, 'paralysing': 231, 'lebanon': 232, 'prime': 233, 'minister': 234, 'saad': 235, 'hariri': 236, 'monday': 237, 'presented': 238, 'package': 239, 'including': 240, 'cutting': 241, 'ministerial': 242, 'salaries': 243, 'but': 244, 'rallies': 245, 'have': 246, 'continued': 247, 'crippling': 248, 'beirut': 249, 'major': 250, 'uk’s': 251, 'javid': 252, 'scraps': 253, 'november': 254, '6': 255, 'budget': 256, 'plan': 257, 'delay': 258, \"'parliament\": 259, 'has': 260, 'voted': 261, 'we’re': 262, 'calling': 263, 'so': 264, 'we': 265, 'won’t': 266, 'delivering': 267, \"6'\": 268, 'parking': 269, 'space': 270, 'sold': 271, 'almost': 272, '$1m!': 273, 'is': 274, 'situated': 275, 'center': 276, \"city's\": 277, 'fifth-highest': 278, 'skyscraper': 279, 'which': 280, 'headlines': 281, 'october': 282, '2017': 283, 'became': 284, 'expensive': 285, 'office': 286, 'building': 287, '16': 288, 'sentenced': 289, 'death': 290, 'burning': 291, 'alive': 292, 'bangladesh': 293, 'teen': 294, 'nusrat': 295, 'jahan': 296, 'rafi': 297, 'headteacher': 298, 'who': 299, 'court': 300, 'southern': 301, 'coastal': 302, 'town': 303, 'feni': 304, 'found': 305, 'ordered': 306, 'brutal': 307, 'killing': 308, 'jail': 309, 'harassment': 310, 'claim': 311, 'say': 312, 'dead': 313, 'chinese': 314, 'workers': 315, 'grisly': 316, 'early': 317, 'inside': 318, 'parked': 319, 'area': 320, 'east': 321, 'london': 322, 'irony': 323, 'forced': 324, 'elections': 325, 'amid': 326, 'lockdown': 327, 'residents': 328, 'political': 329, 'parties': 330, 'criticised': 331, 'timing': 332, 'crippled': 333, '81st': 334, 'shops': 335, 'businesses': 336, 'establishments': 337, 'closed': 338, 'trump': 339, 'says': 340, 'turkey’s': 341, 'ceasefire': 342, 'northern': 343, 'now': 344, 'permanent': 345, 'sanctions': 346, 'lifted': 347, 'u.s': 348, 'donald': 349, 'said': 350, 'turkey': 351, 'result': 352, 'rejecting': 353, 'criticism': 354, 'decision': 355, 'pull': 356, 'troops': 357, 'allowed': 358, 'kurdish': 359, 'allies': 360, 'come': 361, 'under': 362, 'trudeau': 363, 'rules': 364, 'coalition': 365, 'he': 366, 'forms': 367, 'new': 368, 'canadian': 369, 'government': 370, 'would': 371, 'consult': 372, 'leaders': 373, \"canada's\": 374, 'priorities': 375, 'how': 376, 'they': 377, 'might': 378, 'work': 379, 'together': 380, 'paradise': 381, 'regained': 382, 'obliterated': 383, 'fire': 384, 'rises': 385, 'ashes': 386, 'worst': 387, 'wildfire': 388, \"california's\": 389, 'history': 390, 'blasted': 391, 'small': 392, 'community': 393, '‘baby': 394, 'shark’': 395, 'song': 396, 'becomes': 397, 'rallying': 398, 'cry': 399, 'popular': 400, 'children’s': 401, 'spontaneously': 402, 'sang': 403, 'calm': 404, 'toddler': 405, 'recovered': 406, \"lorry's\": 407, '24-year-old': 408, 'ireland': 409, 'suspicion': 410, 'murder': 411, 'india': 412, 'facebook': 413, 'spar': 414, 'laws': 415, 'at': 416, 'top': 417, '“a': 418, 'terrorist': 419, 'cannot': 420, 'privacy,”': 421, 'venugopal': 422, '“for': 423, 'whatsapp': 424, 'decrypt': 425, 'acceptable.”': 426, 'martyr': 427, 'three': 428, 'kashmiri': 429, 'youth': 430, 'pulwama': 431, 'martyred': 432, 'during': 433, 'cordon': 434, 'search': 435, 'operation': 436, 'lebanese': 437, 'keep': 438, 'up': 439, 'measures': 440, 'movement': 441, 'spread': 442, 'all': 443, 'into': 444, \"lebanon's\": 445, 'vast': 446, 'diaspora': 447, 'iraq': 448, 'official': 449, 'toll': 450, 'inquiry': 451, '111': 452, 'nearly': 453, 'them': 454, 'killed': 455, 'baghdad': 456, 'russia': 457, 'reach': 458, '‘historic’': 459, 'deal': 460, 'marathon': 461, \"russia's\": 462, 'city': 463, 'sochi': 464, 'erdogan': 465, 'counterpart': 466, 'vladimir': 467, 'putin': 468, 'announced': 469, 'just': 470, 'hours': 471, 'ahead': 472, 'deadline': 473, 'restart': 474, 'its': 475, 'assault': 476, 'syrian': 477, 'forces': 478, 'chaos': 479, 'parliament': 480, 'refuses': 481, 'fast': 482, 'johnson’s': 483, 'clock': 484, 'ticks': 485, 'latest': 486, 'oct': 487, '31': 488, 'britain’s': 489, 'departure': 490, 'hanging': 491, 'balance': 492, 'divided': 493, 'debates': 494, 'even': 495, 'whether': 496, 'should': 497, 'happen': 498, 'ambassador': 499, 'exposes': 500, 'lies': 501, 'loc': 502, 'visit': 503, 'tuesday': 504, 'exposed': 505, 'false': 506, 'claims': 507, 'regarding': 508, 'destroying': 509, 'alleged': 510, 'camps': 511, 'azad': 512, 'qatar': 513, 'expand': 514, 'airport': 515, 'world': 516, 'cup': 517, '2022': 518, 'expansion': 519, 'hamad': 520, 'international': 521, 'doubling': 522, 'number': 523, 'visitors': 524, 'can': 525, 'receive': 526, 'apple': 527, 'ceo': 528, 'named': 529, 'chairman': 530, 'business': 531, 'school’s': 532, 'advisory': 533, 'board': 534, 'announcement': 535, 'tsinghua': 536, 'university’s': 537, 'school': 538, 'economics': 539, 'management(sem)': 540, 'saturday': 541, 'did': 542, 'specify': 543, 'tim': 544, 'cook': 545, 'assumed': 546, 'role': 547, 'boris': 548, 'johnson': 549, 'faces': 550, 'perilous': 551, 'ratification': 552, 'vote': 553, 'blocked': 554, 'divorce': 555, 'again': 556, 'disarray': 557, 'politicians': 558, 'argue': 559, 'leave': 560, 'us': 561, 'concerned': 562, 'thousands': 563, 'detainees': 564, 'current': 565, 'situation': 566, 'black': 567, 'reaffirm': 568, 'pakistan’s': 569, 'unflinching': 570, 'support': 571, 'observed': 572, 'pakistan': 573, 'across': 574, 'york': 575, 'oic': 576, 'voices': 577, 'strong': 578, 'largely-attended': 579, 'event': 580, 'organized': 581, 'maleeha': 582, 'lodhi': 583, 'alvi': 584, 'azerbaijani': 585, 'discuss': 586, 'bilateral': 587, 'relations': 588, 'dr': 589, 'arif': 590, 'held': 591, 'meeting': 592, 'ilham': 593, 'aliyev': 594, 'sidelines': 595, '18th': 596, 'non': 597, 'aligned': 598, 'summit': 599, 'baku': 600, 'imran': 601, 'khan': 602, 'wishes': 603, 'hindu': 604, 'happy': 605, 'diwali’': 606, 'diwali': 607, 'important': 608, 'festivals': 609, 'calendar': 610, 'seminars': 611, 'planned': 612, 'mark': 613, 'gandapur': 614, \"'a\": 615, 'message': 616, 'will': 617, 'globe': 618, 'these': 619, 'draw': 620, 'attention': 621, 'festering': 622, \"resolution'\": 623, 'marchers': 624, 'enter': 625, 'islamabad’s': 626, 'red': 627, 'zone;': 628, 'rehbar': 629, 'committee': 630, 'agreement': 631, 'holding': 632, 'successful': 633, 'dialogues': 634, 'opposition’s': 635, 'finally': 636, 'agree': 637, 'venue': 638, 'march': 639, 'islamabad': 640, 'siege': 641, 'ajk': 642, 'raja': 643, 'farooq': 644, 'haider': 645, 'regretted': 646, 'only': 647, 'unleashed': 648, 'wave': 649, 'terror': 650, 'targeting': 651, 'civilian': 652, 'line': 653, 'control': 654, 'nawaz': 655, 'given': 656, 'interim': 657, 'relief': 658, 'al-azizia': 659, 'sentence': 660, 'stands': 661, 'firdous': 662, \"'the\": 663, 'consideration': 664, 'factors': 665, 'while': 666, 'awarding': 667, 'pml-n': 668, 'supremo': 669, \"relief'\": 670, 'two': 671, 'minor': 672, 'siblings': 673, 'throats': 674, 'slit': 675, 'karachi': 676, 'graveyard': 677, 'shifted': 678, 'abbasi': 679, 'shaheed': 680, 'hospital': 681, 'autopsy': 682, 'lab': 683, 'test': 684, 'finds': 685, '‘plastic': 686, 'eggs’': 687, 'chicken': 688, 'eggs': 689, 'episode': 690, 'sale': 691, 'drop': 692, 'scene': 693, 'sindh': 694, 'food': 695, 'authority': 696, 'laboratory': 697, 'declared': 698, 'expired': 699, 'real': 700, '‘nawaz': 701, 'doesn’t': 702, 'go': 703, 'abroad': 704, 'alone': 705, 'maryam’s': 706, 'bail': 707, 'hearing': 708, 'fixed': 709, 'i': 710, 'saying': 711, 'six': 712, 'sharif': 713, 'going': 714, 'nepal': 715, 'enhance': 716, 'trade': 717, 'ties': 718, 'nepal’s': 719, 'khadga': 720, 'prasad': 721, 'sharma': 722, 'oli': 723, 'zardari’s': 724, 'platelet': 725, 'count': 726, 'drops': 727, 'pims': 728, 'peoples': 729, 'party': 730, 'co-chairman': 731, 'asif': 732, 'ali': 733, \"zardari's\": 734, 'platelets': 735, 'dropped': 736, '90,000': 737, 'institute': 738, 'medical': 739, 'sciences': 740, '(pims)': 741, 'sarwar': 742, 'vows': 743, 'bring': 744, 'perpetrators': 745, 'sahiwal': 746, 'incident': 747, 'book': 748, 'state': 749, 'fulfill': 750, 'promise': 751, 'bringing': 752, 'those': 753, 'responsible': 754, 'dock': 755, 'suggests': 756, 'opposition': 757, 'hold': 758, '‘azadi': 759, 'march’': 760, 'f-9': 761, 'park': 762, 'government’s': 763, 'negotiation': 764, 'suggested': 765, 'sit-in': 766, 'ailing': 767, 'gets': 768, 'case': 769, '‘medical': 770, 'grounds’': 771, 'division': 772, 'bench': 773, 'ihc': 774, 'comprising': 775, 'justice': 776, 'athar': 777, 'minallah': 778, 'mohsin': 779, 'akhtar': 780, 'kayani': 781, 'approved': 782, 'surety': 783, 'bonds': 784, 'rs1': 785, 'each': 786, 'throws': 787, 'leader': 788, 'capt': 789, 'safdar’s': 790, 'plea': 791, 'former': 792, \"sharif's\": 793, 'son-in-law': 794, 'prison': 795, 'judicial': 796, 'remand': 797, 'hate': 798, 'speech': 799, 'chairs': 800, 'team': 801, 'chaired': 802, 'where': 803, 'briefed': 804, 'overall': 805, 'performance': 806, 'financial': 807, 'institutions': 808, 'improvement': 809, 'national': 810, 'economy': 811, 'ary': 812, 'news': 813, 'reported': 814, 'transporters': 815, 'reject': 816, 'providing': 817, 'azadi': 818, 'sit-ins': 819, 'muttahida': 820, 'transport': 821, 'badshah': 822, 'afridi': 823, 'told': 824, 'delegation': 825, 'jui-f': 826, 'met': 827, 'him': 828, 'provide': 829, 'passengers': 830, 'buses': 831, 'beginning': 832, 'tomorrow': 833, 'pemra': 834, 'bars': 835, 'tv': 836, 'channels': 837, 'inviting': 838, 'jui-f’s': 839, 'hafiz': 840, 'hamdullah': 841, 'talkshows': 842, 'sources': 843, 'senator': 844, 'possessing': 845, 'afghanistan': 846, 'nationality': 847, 'ashiq': 848, 'awan': 849, 'criticises': 850, 'chief’s': 851, 'moves': 852, 'disturbing': 853, 'peace': 854, 'special': 855, 'assistant': 856, 'questioned': 857, 'maulana': 858, 'fazlur': 859, 'rehman': 860, 'reasons': 861, 'behind': 862, 'peaceful': 863, 'decide': 864, 'maintainability': 865, 'mustafa': 866, 'kamal': 867, 'nov': 868, '06': 869, 'arguments': 870, 'lawyers': 871, 'judge': 872, 'announce': 873, 'reference': 874, 'bilawal': 875, 'bhutto': 876, 'address': 877, 'people’s': 878, 'party’s': 879, 'kandhkot': 880, 'rally': 881, 'proceed': 882, 'next': 883, 'father': 884, 'zardari': 885, 'tropical': 886, 'cyclone': 887, '‘kyarr’': 888, 'rainfall': 889, 'lower': 890, 'makran': 891, 'statement': 892, 'meteorological': 893, 'department': 894, '(pmd)': 895, 'informed': 896, 'cyclonic': 897, 'storm': 898, '“kyarr”': 899, 'lay': 900, 'centered': 901, '10:00': 902, 'pst': 903, '25': 904, '2019': 905, 'about': 906, '1050': 907, 'km': 908, 'southeast': 909, 'hear': 910, 'sharif’s': 911, 'petitions': 912, 'cases': 913, 'league': 914, '(pml-n)': 915, 'supreme': 916, 'granted': 917, 'grounds': 918, 'lahore': 919, 'high': 920, 'chaudhry': 921, 'sugar': 922, 'mills': 923, 'earthquake': 924, 'jolts': 925, 'ajk’s': 926, 'mirpur': 927, 'suburban': 928, 'tremors': 929, 'created': 930, 'panic': 931, 'citizens': 932, 'came': 933, 'houses': 934, 'offices': 935, 'precautionary': 936, 'negotiating': 937, 'brief': 938, 'future': 939, 'action': 940, 'finalize': 941, 'strategy': 942, 'tackle': 943, 'issue': 944, 'imf': 945, 'mission': 946, 'sunday': 947, 'finance': 948, 'ministry': 949, 'begin': 950, '28': 951, 'headed': 952, 'ernesto': 953, 'ramirez': 954, 'rigo': 955, 'policeman': 956, 'injured': 957, 'dera': 958, 'ismail': 959, 'ied': 960, 'blast': 961, 'place': 962, 'hathyala': 963, 'elite': 964, 'tariq': 965, 'wounded': 966, 'explosion': 967, 'occurred': 968, 'near': 969, 'vehicle': 970, 'teacher': 971, 'technique': 972, 'memories': 973, 'multiplication': 974, 'table': 975, 'introduced': 976, 'unique': 977, 'five': 978, 'fall': 979, 'victim': 980, 'dog-bite': 981, 'pakpattan': 982, 'least': 983, 'child': 984, 'bitten': 985, 'rabid': 986, 'dog': 987, 'inconclusive': 988, 'negotiations': 989, 'recommendations': 990, 'put': 991, 'forward': 992, 'both': 993, 'sides': 994, 'discussed': 995, 'fbr': 996, 'interact': 997, 'businessmen': 998, 'via': 999, 'personal': 1000, 'visits': 1001, 'phone': 1002, 'calls': 1003, 'shabbar': 1004, 'zaidi': 1005, 'automated': 1006, 'system': 1007, 'manner': 1008, 'army': 1009, 'endangering': 1010, '‘electioneering': 1011, 'masters’': 1012, 'dg': 1013, 'ispr': 1014, \"'from\": 1015, 'fake': 1016, 'surgical': 1017, 'strike': 1018, 'date': 1019, 'success': 1020, 'rogue': 1021, \"force'\": 1022, 'allow': 1023, 'disrupt': 1024, 'law': 1025, 'order': 1026, 'ghulam': 1027, 'fully': 1028, 'respects': 1029, 'decisions': 1030, 'grant': 1031, 'stresses': 1032, 'dignified': 1033, 'repatriation': 1034, 'afghan': 1035, 'refugees': 1036, 'ashraf': 1037, 'ghani': 1038, 'non-aligned': 1039, 'get': 1040, 'briefing': 1041, 'fatf': 1042, 'taken': 1043, 'thus': 1044, 'far': 1045, \"watchdog's\": 1046, 'grey': 1047, 'list': 1048, 'attaches': 1049, 'great': 1050, 'importance': 1051, 'iran': 1052, 'iranian': 1053, 'hassan': 1054, 'rouhani': 1055, 'coas': 1056, 'condolences': 1057, 'fm': 1058, 'qureshi': 1059, 'sister’s': 1060, 'demise': 1061, 'staff': 1062, '(coas)': 1063, 'qamar': 1064, 'javed': 1065, 'bajwa': 1066, 'offered': 1067, 'foreign': 1068, 'shah': 1069, 'mehmood': 1070, 'sad': 1071, 'suffered': 1072, 'if': 1073, 'sons': 1074, 'coughed': 1075, 'loot': 1076, 'fawad': 1077, 'bore': 1078, 'league-nawaz': 1079, 'no': 1080, 'grudge': 1081, 'mufti': 1082, 'taqi': 1083, 'usmani': 1084, 'discusses': 1085, 'challenges': 1086, 'ummah': 1087, 'prominent': 1088, 'religious': 1089, 'scholars': 1090, 'called': 1091, 'or': 1092, 'loot’': 1093, 'vawda': 1094, 'hopes': 1095, '‘absconding’': 1096, 'prayed': 1097, 'swift': 1098, 'recovery': 1099, 'qaiser': 1100, 'urges': 1101, 'parliaments': 1102, 'take': 1103, 'notice': 1104, 'rights': 1105, 'violations': 1106, 'iok': 1107, 'assembly': 1108, 'speaker': 1109, 'asad': 1110, 'urged': 1111, 'send': 1112, 'parliamentary': 1113, 'delegations': 1114, 'see': 1115, 'blatant': 1116, 'there': 1117, 'expanding': 1118, 'tax': 1119, 'base': 1120, 'vital': 1121, 'masses': 1122, 'facilities': 1123, 'help': 1124, 'cut': 1125, 'burden': 1126, 'additional': 1127, 'taxes': 1128, '43': 1129, 'dengue': 1130, 'surface': 1131, 'khyber': 1132, 'pakhtunkhwa': 1133, 'health': 1134, 'authorities': 1135, 'confirmed': 1136, 'mosquito-borne': 1137, 'fever': 1138, 'detected': 1139, 'last': 1140, '24': 1141, 'presents': 1142, 'four-point': 1143, 'charter': 1144, 'formal': 1145, 'sitting': 1146, 'ecp': 1147, 'pti': 1148, 'disqualification': 1149, 'talpur': 1150, '4': 1151, 'summoned': 1152, 'interior': 1153, 'warns': 1154, 'possible': 1155, 'attacks': 1156, 'stated': 1157, 'jamiat': 1158, 'ulema-e-islam': 1159, 'fazl': 1160, '(jui-f)': 1161, 'increased': 1162, 'risks': 1163, 'internal': 1164, 'security': 1165, 'country': 1166, 'besides': 1167, 'creating': 1168, 'instability': 1169, 'adjournment': 1170, 'session': 1171, 'grand': 1172, 'democratic': 1173, 'alliance': 1174, '(gda)': 1175, 'candidate': 1176, 'moazzam': 1177, 'defeated': 1178, 'jameel': 1179, 'ahmed': 1180, 'soomro': 1181, '17': 1182, 'larkana': 1183, 'orders': 1184, 'filing': 1185, 'appeal': 1186, 'challenge': 1187, 'verdict': 1188, 'directed': 1189, 'constitute': 1190, 'high-powered': 1191, 'probe': 1192, 'identify': 1193, 'flaws': 1194, 'investigation': 1195, 'prosecution': 1196, 'acquittal': 1197, 'suspects': 1198, '‘encounter’': 1199, 'instructed': 1200, 'investigate': 1201, 'weaknesses': 1202, '(pmln)': 1203, 'accepted': 1204, '310': 1205, 'officials': 1206, 'according': 1207, 'surveillance': 1208, 'cell': 1209, '(dsc)': 1210, 'reached': 1211, '4294': 1212, 'disease': 1213, 'claimed': 1214, '23': 1215, 'lives': 1216, 'devising': 1217, 'offer': 1218, 'jobs': 1219, 'phds': 1220, 'shafqat': 1221, 'mahmood': 1222, 'lamented': 1223, 'fact': 1224, 'unemployed': 1225, 'nefarious': 1226, 'elements': 1227, 'trying': 1228, 'deter': 1229, 'path': 1230, 'progress': 1231, 'cm': 1232, 'buzdar': 1233, 'punjab': 1234, 'sardar': 1235, 'usman': 1236, 'some': 1237, 'do': 1238, 'development': 1239, 'condition': 1240, 'serious': 1241, 'report': 1242, '\"nawaz': 1243, 'improved': 1244, 'night': 1245, 'further': 1246, 'deteriorated': 1247, 'now,\"': 1248, 'submitted': 1249, 'ayaz': 1250, 'head': 1251, 'foundation': 1252, 'baba': 1253, 'guru': 1254, 'nanak': 1255, 'university': 1256, 'preparations': 1257, 'completed': 1258, 'ceremony': 1259, 'nankana': 1260, 'sahib': 1261, 'charge': 1262, 'd’': 1263, 'affaires': 1264, 'casualties': 1265, \"pakistan's\": 1266, \"d'\": 1267, 'gaurav': 1268, 'ahluwalia': 1269, 'lodge': 1270, 'strongly-worded': 1271, 'civilians': 1272, 'indiscriminate': 1273, 'cross-border': 1274, 'firing': 1275, 'yesterday': 1276, 'shc': 1277, 'set': 1278, 'aside': 1279, '14-year': 1280, 'term': 1281, 'explosives': 1282, 'hand': 1283, 'grenade': 1284, 'accused': 1285, '2018': 1286, 'fir': 1287, 'registered': 1288, 'malir': 1289, 'station': 1290, 'provincial': 1291, 'matters': 1292, 'projects': 1293, 'sheikh': 1294, 'rasheed': 1295, \"railways'\": 1296, 'ready': 1297, 'give': 1298, 'face-saving': 1299, 'opportunity': 1300, 'directives': 1301, 'respected': 1302, 'qureshi’s': 1303, 'sister': 1304, 'passes': 1305, 'away': 1306, 'her': 1307, 'funeral': 1308, 'native': 1309, 'village': 1310, 'chak-44': 1311, 'mian': 1312, 'channu': 1313, 'maryam': 1314, 'yousaf': 1315, 'abbas’s': 1316, 'remands': 1317, 'extended': 1318, 'sub': 1319, 'judice': 1320, 'accountability': 1321, 'physical': 1322, \"pmln's\": 1323, 'cousin': 1324, 'abbas': 1325, '14': 1326}\n",
      "\n",
      "{1: 'over', 2: 'a', 3: 'million', 4: 'protesters', 5: 'demand', 6: 'president’s', 7: 'resignation', 8: 'in', 9: 'chile', 10: 'more', 11: 'than', 12: 'one', 13: 'people', 14: 'took', 15: 'to', 16: 'the', 17: 'streets', 18: 'friday', 19: 'for', 20: 'largest', 21: 'protests', 22: 'week', 23: 'of', 24: 'deadly', 25: 'demonstrations', 26: 'demanding', 27: 'economic', 28: 'reforms', 29: 'majority', 30: '39', 31: 'uk', 32: 'truck', 33: 'victims', 34: 'likely', 35: 'from', 36: 'vietnam', 37: 'priest', 38: 'discovery', 39: 'bodies', 40: '-', 41: '38', 42: 'adults', 43: 'and', 44: 'teenager', 45: 'was', 46: 'made', 47: 'on', 48: 'wednesday', 49: 'after', 50: 'emergency', 51: 'services', 52: 'were', 53: 'alerted', 54: 'container', 55: 'an', 56: 'industrial', 57: 'site', 58: 'grays', 59: 'curfew', 60: 'continues', 61: '83rd', 62: 'consecutive', 63: 'day', 64: 'indian', 65: 'occupied', 66: 'kashmir', 67: 'kashmiris', 68: 'continue', 69: 'observe', 70: 'shutdown', 71: 'as', 72: 'silent', 73: 'protest', 74: 'against', 75: 'india’s', 76: 'recent', 77: 'actions', 78: 'despite', 79: 'occupation', 80: 'authorities’', 81: 'efforts', 82: 'restore', 83: 'normalcy', 84: 'territory', 85: 'man', 86: 'woman', 87: 'arrested', 88: 'human', 89: 'trafficking', 90: 'deaths', 91: '25-year-old', 92: 'driver', 93: 'remains', 94: 'custody', 95: 'being', 96: 'following', 97: 'grim', 98: 'back', 99: 'his', 100: 'refrigerated', 101: '300', 102: 'russian', 103: 'police', 104: 'arrive', 105: 'syria', 106: 'border', 107: 'patrols', 108: 'moscow', 109: '20', 110: 'armoured', 111: 'vehicles', 112: 'also', 113: 'sent', 114: 'sc', 115: 'grills', 116: 'bjp', 117: 'govt', 118: 'not', 119: 'lifting', 120: 'curbs', 121: '“how', 122: 'many', 123: 'days', 124: 'you', 125: 'want', 126: 'restrictions?,\"', 127: 'asked', 128: 'boeing', 129: 'design', 130: 'flaw', 131: '‘a', 132: 'factor', 133: 'lion', 134: 'air', 135: 'crash’', 136: 'disaster', 137: 'followed', 138: 'months', 139: 'later', 140: 'by', 141: 'second', 142: 'crash', 143: '--', 144: 'involving', 145: 'same', 146: 'model', 147: 'aircraft', 148: 'when', 149: 'ethiopian', 150: 'airlines', 151: 'plane', 152: 'went', 153: 'down', 154: 'with', 155: '157', 156: 'aboard', 157: 'un', 158: 'chief', 159: 'reiterates', 160: 'call', 161: 'settlement', 162: 'dispute', 163: 'through', 164: 'talks', 165: 'united', 166: 'nations', 167: 'secretary', 168: 'general', 169: 'antonio', 170: 'guterres', 171: 'be', 172: 'resolved', 173: 'dialogue', 174: 'firecracker', 175: 'hub', 176: 'hit', 177: 'anti-pollution', 178: 'drive', 179: 'their', 180: 'smoke', 181: 'combines', 182: 'other', 183: 'emissions', 184: 'turn', 185: \"india's\", 186: 'cities', 187: 'among', 188: \"world's\", 189: 'most', 190: 'polluted', 191: 'freedoms', 192: 'usurped', 193: '82nd', 194: 'annexation', 195: 'normal', 196: 'life', 197: 'remain', 198: 'out', 199: 'gear', 200: 'valley', 201: 'muslim', 202: 'areas', 203: 'jammu', 204: 'region', 205: 'today', 206: 'pm', 207: 'offers', 208: 'dec', 209: '12', 210: 'election', 211: 'break', 212: 'brexit', 213: 'impasse', 214: 'it', 215: 'had', 216: 'been', 217: 'first', 218: 'time', 219: 'that', 220: 'house', 221: 'commons', 222: 'backed', 223: 'any', 224: 'proposal', 225: 'since', 226: '2016', 227: 'eu', 228: 'referendum', 229: 'president', 230: 'meet', 231: 'paralysing', 232: 'lebanon', 233: 'prime', 234: 'minister', 235: 'saad', 236: 'hariri', 237: 'monday', 238: 'presented', 239: 'package', 240: 'including', 241: 'cutting', 242: 'ministerial', 243: 'salaries', 244: 'but', 245: 'rallies', 246: 'have', 247: 'continued', 248: 'crippling', 249: 'beirut', 250: 'major', 251: 'uk’s', 252: 'javid', 253: 'scraps', 254: 'november', 255: '6', 256: 'budget', 257: 'plan', 258: 'delay', 259: \"'parliament\", 260: 'has', 261: 'voted', 262: 'we’re', 263: 'calling', 264: 'so', 265: 'we', 266: 'won’t', 267: 'delivering', 268: \"6'\", 269: 'parking', 270: 'space', 271: 'sold', 272: 'almost', 273: '$1m!', 274: 'is', 275: 'situated', 276: 'center', 277: \"city's\", 278: 'fifth-highest', 279: 'skyscraper', 280: 'which', 281: 'headlines', 282: 'october', 283: '2017', 284: 'became', 285: 'expensive', 286: 'office', 287: 'building', 288: '16', 289: 'sentenced', 290: 'death', 291: 'burning', 292: 'alive', 293: 'bangladesh', 294: 'teen', 295: 'nusrat', 296: 'jahan', 297: 'rafi', 298: 'headteacher', 299: 'who', 300: 'court', 301: 'southern', 302: 'coastal', 303: 'town', 304: 'feni', 305: 'found', 306: 'ordered', 307: 'brutal', 308: 'killing', 309: 'jail', 310: 'harassment', 311: 'claim', 312: 'say', 313: 'dead', 314: 'chinese', 315: 'workers', 316: 'grisly', 317: 'early', 318: 'inside', 319: 'parked', 320: 'area', 321: 'east', 322: 'london', 323: 'irony', 324: 'forced', 325: 'elections', 326: 'amid', 327: 'lockdown', 328: 'residents', 329: 'political', 330: 'parties', 331: 'criticised', 332: 'timing', 333: 'crippled', 334: '81st', 335: 'shops', 336: 'businesses', 337: 'establishments', 338: 'closed', 339: 'trump', 340: 'says', 341: 'turkey’s', 342: 'ceasefire', 343: 'northern', 344: 'now', 345: 'permanent', 346: 'sanctions', 347: 'lifted', 348: 'u.s', 349: 'donald', 350: 'said', 351: 'turkey', 352: 'result', 353: 'rejecting', 354: 'criticism', 355: 'decision', 356: 'pull', 357: 'troops', 358: 'allowed', 359: 'kurdish', 360: 'allies', 361: 'come', 362: 'under', 363: 'trudeau', 364: 'rules', 365: 'coalition', 366: 'he', 367: 'forms', 368: 'new', 369: 'canadian', 370: 'government', 371: 'would', 372: 'consult', 373: 'leaders', 374: \"canada's\", 375: 'priorities', 376: 'how', 377: 'they', 378: 'might', 379: 'work', 380: 'together', 381: 'paradise', 382: 'regained', 383: 'obliterated', 384: 'fire', 385: 'rises', 386: 'ashes', 387: 'worst', 388: 'wildfire', 389: \"california's\", 390: 'history', 391: 'blasted', 392: 'small', 393: 'community', 394: '‘baby', 395: 'shark’', 396: 'song', 397: 'becomes', 398: 'rallying', 399: 'cry', 400: 'popular', 401: 'children’s', 402: 'spontaneously', 403: 'sang', 404: 'calm', 405: 'toddler', 406: 'recovered', 407: \"lorry's\", 408: '24-year-old', 409: 'ireland', 410: 'suspicion', 411: 'murder', 412: 'india', 413: 'facebook', 414: 'spar', 415: 'laws', 416: 'at', 417: 'top', 418: '“a', 419: 'terrorist', 420: 'cannot', 421: 'privacy,”', 422: 'venugopal', 423: '“for', 424: 'whatsapp', 425: 'decrypt', 426: 'acceptable.”', 427: 'martyr', 428: 'three', 429: 'kashmiri', 430: 'youth', 431: 'pulwama', 432: 'martyred', 433: 'during', 434: 'cordon', 435: 'search', 436: 'operation', 437: 'lebanese', 438: 'keep', 439: 'up', 440: 'measures', 441: 'movement', 442: 'spread', 443: 'all', 444: 'into', 445: \"lebanon's\", 446: 'vast', 447: 'diaspora', 448: 'iraq', 449: 'official', 450: 'toll', 451: 'inquiry', 452: '111', 453: 'nearly', 454: 'them', 455: 'killed', 456: 'baghdad', 457: 'russia', 458: 'reach', 459: '‘historic’', 460: 'deal', 461: 'marathon', 462: \"russia's\", 463: 'city', 464: 'sochi', 465: 'erdogan', 466: 'counterpart', 467: 'vladimir', 468: 'putin', 469: 'announced', 470: 'just', 471: 'hours', 472: 'ahead', 473: 'deadline', 474: 'restart', 475: 'its', 476: 'assault', 477: 'syrian', 478: 'forces', 479: 'chaos', 480: 'parliament', 481: 'refuses', 482: 'fast', 483: 'johnson’s', 484: 'clock', 485: 'ticks', 486: 'latest', 487: 'oct', 488: '31', 489: 'britain’s', 490: 'departure', 491: 'hanging', 492: 'balance', 493: 'divided', 494: 'debates', 495: 'even', 496: 'whether', 497: 'should', 498: 'happen', 499: 'ambassador', 500: 'exposes', 501: 'lies', 502: 'loc', 503: 'visit', 504: 'tuesday', 505: 'exposed', 506: 'false', 507: 'claims', 508: 'regarding', 509: 'destroying', 510: 'alleged', 511: 'camps', 512: 'azad', 513: 'qatar', 514: 'expand', 515: 'airport', 516: 'world', 517: 'cup', 518: '2022', 519: 'expansion', 520: 'hamad', 521: 'international', 522: 'doubling', 523: 'number', 524: 'visitors', 525: 'can', 526: 'receive', 527: 'apple', 528: 'ceo', 529: 'named', 530: 'chairman', 531: 'business', 532: 'school’s', 533: 'advisory', 534: 'board', 535: 'announcement', 536: 'tsinghua', 537: 'university’s', 538: 'school', 539: 'economics', 540: 'management(sem)', 541: 'saturday', 542: 'did', 543: 'specify', 544: 'tim', 545: 'cook', 546: 'assumed', 547: 'role', 548: 'boris', 549: 'johnson', 550: 'faces', 551: 'perilous', 552: 'ratification', 553: 'vote', 554: 'blocked', 555: 'divorce', 556: 'again', 557: 'disarray', 558: 'politicians', 559: 'argue', 560: 'leave', 561: 'us', 562: 'concerned', 563: 'thousands', 564: 'detainees', 565: 'current', 566: 'situation', 567: 'black', 568: 'reaffirm', 569: 'pakistan’s', 570: 'unflinching', 571: 'support', 572: 'observed', 573: 'pakistan', 574: 'across', 575: 'york', 576: 'oic', 577: 'voices', 578: 'strong', 579: 'largely-attended', 580: 'event', 581: 'organized', 582: 'maleeha', 583: 'lodhi', 584: 'alvi', 585: 'azerbaijani', 586: 'discuss', 587: 'bilateral', 588: 'relations', 589: 'dr', 590: 'arif', 591: 'held', 592: 'meeting', 593: 'ilham', 594: 'aliyev', 595: 'sidelines', 596: '18th', 597: 'non', 598: 'aligned', 599: 'summit', 600: 'baku', 601: 'imran', 602: 'khan', 603: 'wishes', 604: 'hindu', 605: 'happy', 606: 'diwali’', 607: 'diwali', 608: 'important', 609: 'festivals', 610: 'calendar', 611: 'seminars', 612: 'planned', 613: 'mark', 614: 'gandapur', 615: \"'a\", 616: 'message', 617: 'will', 618: 'globe', 619: 'these', 620: 'draw', 621: 'attention', 622: 'festering', 623: \"resolution'\", 624: 'marchers', 625: 'enter', 626: 'islamabad’s', 627: 'red', 628: 'zone;', 629: 'rehbar', 630: 'committee', 631: 'agreement', 632: 'holding', 633: 'successful', 634: 'dialogues', 635: 'opposition’s', 636: 'finally', 637: 'agree', 638: 'venue', 639: 'march', 640: 'islamabad', 641: 'siege', 642: 'ajk', 643: 'raja', 644: 'farooq', 645: 'haider', 646: 'regretted', 647: 'only', 648: 'unleashed', 649: 'wave', 650: 'terror', 651: 'targeting', 652: 'civilian', 653: 'line', 654: 'control', 655: 'nawaz', 656: 'given', 657: 'interim', 658: 'relief', 659: 'al-azizia', 660: 'sentence', 661: 'stands', 662: 'firdous', 663: \"'the\", 664: 'consideration', 665: 'factors', 666: 'while', 667: 'awarding', 668: 'pml-n', 669: 'supremo', 670: \"relief'\", 671: 'two', 672: 'minor', 673: 'siblings', 674: 'throats', 675: 'slit', 676: 'karachi', 677: 'graveyard', 678: 'shifted', 679: 'abbasi', 680: 'shaheed', 681: 'hospital', 682: 'autopsy', 683: 'lab', 684: 'test', 685: 'finds', 686: '‘plastic', 687: 'eggs’', 688: 'chicken', 689: 'eggs', 690: 'episode', 691: 'sale', 692: 'drop', 693: 'scene', 694: 'sindh', 695: 'food', 696: 'authority', 697: 'laboratory', 698: 'declared', 699: 'expired', 700: 'real', 701: '‘nawaz', 702: 'doesn’t', 703: 'go', 704: 'abroad', 705: 'alone', 706: 'maryam’s', 707: 'bail', 708: 'hearing', 709: 'fixed', 710: 'i', 711: 'saying', 712: 'six', 713: 'sharif', 714: 'going', 715: 'nepal', 716: 'enhance', 717: 'trade', 718: 'ties', 719: 'nepal’s', 720: 'khadga', 721: 'prasad', 722: 'sharma', 723: 'oli', 724: 'zardari’s', 725: 'platelet', 726: 'count', 727: 'drops', 728: 'pims', 729: 'peoples', 730: 'party', 731: 'co-chairman', 732: 'asif', 733: 'ali', 734: \"zardari's\", 735: 'platelets', 736: 'dropped', 737: '90,000', 738: 'institute', 739: 'medical', 740: 'sciences', 741: '(pims)', 742: 'sarwar', 743: 'vows', 744: 'bring', 745: 'perpetrators', 746: 'sahiwal', 747: 'incident', 748: 'book', 749: 'state', 750: 'fulfill', 751: 'promise', 752: 'bringing', 753: 'those', 754: 'responsible', 755: 'dock', 756: 'suggests', 757: 'opposition', 758: 'hold', 759: '‘azadi', 760: 'march’', 761: 'f-9', 762: 'park', 763: 'government’s', 764: 'negotiation', 765: 'suggested', 766: 'sit-in', 767: 'ailing', 768: 'gets', 769: 'case', 770: '‘medical', 771: 'grounds’', 772: 'division', 773: 'bench', 774: 'ihc', 775: 'comprising', 776: 'justice', 777: 'athar', 778: 'minallah', 779: 'mohsin', 780: 'akhtar', 781: 'kayani', 782: 'approved', 783: 'surety', 784: 'bonds', 785: 'rs1', 786: 'each', 787: 'throws', 788: 'leader', 789: 'capt', 790: 'safdar’s', 791: 'plea', 792: 'former', 793: \"sharif's\", 794: 'son-in-law', 795: 'prison', 796: 'judicial', 797: 'remand', 798: 'hate', 799: 'speech', 800: 'chairs', 801: 'team', 802: 'chaired', 803: 'where', 804: 'briefed', 805: 'overall', 806: 'performance', 807: 'financial', 808: 'institutions', 809: 'improvement', 810: 'national', 811: 'economy', 812: 'ary', 813: 'news', 814: 'reported', 815: 'transporters', 816: 'reject', 817: 'providing', 818: 'azadi', 819: 'sit-ins', 820: 'muttahida', 821: 'transport', 822: 'badshah', 823: 'afridi', 824: 'told', 825: 'delegation', 826: 'jui-f', 827: 'met', 828: 'him', 829: 'provide', 830: 'passengers', 831: 'buses', 832: 'beginning', 833: 'tomorrow', 834: 'pemra', 835: 'bars', 836: 'tv', 837: 'channels', 838: 'inviting', 839: 'jui-f’s', 840: 'hafiz', 841: 'hamdullah', 842: 'talkshows', 843: 'sources', 844: 'senator', 845: 'possessing', 846: 'afghanistan', 847: 'nationality', 848: 'ashiq', 849: 'awan', 850: 'criticises', 851: 'chief’s', 852: 'moves', 853: 'disturbing', 854: 'peace', 855: 'special', 856: 'assistant', 857: 'questioned', 858: 'maulana', 859: 'fazlur', 860: 'rehman', 861: 'reasons', 862: 'behind', 863: 'peaceful', 864: 'decide', 865: 'maintainability', 866: 'mustafa', 867: 'kamal', 868: 'nov', 869: '06', 870: 'arguments', 871: 'lawyers', 872: 'judge', 873: 'announce', 874: 'reference', 875: 'bilawal', 876: 'bhutto', 877: 'address', 878: 'people’s', 879: 'party’s', 880: 'kandhkot', 881: 'rally', 882: 'proceed', 883: 'next', 884: 'father', 885: 'zardari', 886: 'tropical', 887: 'cyclone', 888: '‘kyarr’', 889: 'rainfall', 890: 'lower', 891: 'makran', 892: 'statement', 893: 'meteorological', 894: 'department', 895: '(pmd)', 896: 'informed', 897: 'cyclonic', 898: 'storm', 899: '“kyarr”', 900: 'lay', 901: 'centered', 902: '10:00', 903: 'pst', 904: '25', 905: '2019', 906: 'about', 907: '1050', 908: 'km', 909: 'southeast', 910: 'hear', 911: 'sharif’s', 912: 'petitions', 913: 'cases', 914: 'league', 915: '(pml-n)', 916: 'supreme', 917: 'granted', 918: 'grounds', 919: 'lahore', 920: 'high', 921: 'chaudhry', 922: 'sugar', 923: 'mills', 924: 'earthquake', 925: 'jolts', 926: 'ajk’s', 927: 'mirpur', 928: 'suburban', 929: 'tremors', 930: 'created', 931: 'panic', 932: 'citizens', 933: 'came', 934: 'houses', 935: 'offices', 936: 'precautionary', 937: 'negotiating', 938: 'brief', 939: 'future', 940: 'action', 941: 'finalize', 942: 'strategy', 943: 'tackle', 944: 'issue', 945: 'imf', 946: 'mission', 947: 'sunday', 948: 'finance', 949: 'ministry', 950: 'begin', 951: '28', 952: 'headed', 953: 'ernesto', 954: 'ramirez', 955: 'rigo', 956: 'policeman', 957: 'injured', 958: 'dera', 959: 'ismail', 960: 'ied', 961: 'blast', 962: 'place', 963: 'hathyala', 964: 'elite', 965: 'tariq', 966: 'wounded', 967: 'explosion', 968: 'occurred', 969: 'near', 970: 'vehicle', 971: 'teacher', 972: 'technique', 973: 'memories', 974: 'multiplication', 975: 'table', 976: 'introduced', 977: 'unique', 978: 'five', 979: 'fall', 980: 'victim', 981: 'dog-bite', 982: 'pakpattan', 983: 'least', 984: 'child', 985: 'bitten', 986: 'rabid', 987: 'dog', 988: 'inconclusive', 989: 'negotiations', 990: 'recommendations', 991: 'put', 992: 'forward', 993: 'both', 994: 'sides', 995: 'discussed', 996: 'fbr', 997: 'interact', 998: 'businessmen', 999: 'via', 1000: 'personal', 1001: 'visits', 1002: 'phone', 1003: 'calls', 1004: 'shabbar', 1005: 'zaidi', 1006: 'automated', 1007: 'system', 1008: 'manner', 1009: 'army', 1010: 'endangering', 1011: '‘electioneering', 1012: 'masters’', 1013: 'dg', 1014: 'ispr', 1015: \"'from\", 1016: 'fake', 1017: 'surgical', 1018: 'strike', 1019: 'date', 1020: 'success', 1021: 'rogue', 1022: \"force'\", 1023: 'allow', 1024: 'disrupt', 1025: 'law', 1026: 'order', 1027: 'ghulam', 1028: 'fully', 1029: 'respects', 1030: 'decisions', 1031: 'grant', 1032: 'stresses', 1033: 'dignified', 1034: 'repatriation', 1035: 'afghan', 1036: 'refugees', 1037: 'ashraf', 1038: 'ghani', 1039: 'non-aligned', 1040: 'get', 1041: 'briefing', 1042: 'fatf', 1043: 'taken', 1044: 'thus', 1045: 'far', 1046: \"watchdog's\", 1047: 'grey', 1048: 'list', 1049: 'attaches', 1050: 'great', 1051: 'importance', 1052: 'iran', 1053: 'iranian', 1054: 'hassan', 1055: 'rouhani', 1056: 'coas', 1057: 'condolences', 1058: 'fm', 1059: 'qureshi', 1060: 'sister’s', 1061: 'demise', 1062: 'staff', 1063: '(coas)', 1064: 'qamar', 1065: 'javed', 1066: 'bajwa', 1067: 'offered', 1068: 'foreign', 1069: 'shah', 1070: 'mehmood', 1071: 'sad', 1072: 'suffered', 1073: 'if', 1074: 'sons', 1075: 'coughed', 1076: 'loot', 1077: 'fawad', 1078: 'bore', 1079: 'league-nawaz', 1080: 'no', 1081: 'grudge', 1082: 'mufti', 1083: 'taqi', 1084: 'usmani', 1085: 'discusses', 1086: 'challenges', 1087: 'ummah', 1088: 'prominent', 1089: 'religious', 1090: 'scholars', 1091: 'called', 1092: 'or', 1093: 'loot’', 1094: 'vawda', 1095: 'hopes', 1096: '‘absconding’', 1097: 'prayed', 1098: 'swift', 1099: 'recovery', 1100: 'qaiser', 1101: 'urges', 1102: 'parliaments', 1103: 'take', 1104: 'notice', 1105: 'rights', 1106: 'violations', 1107: 'iok', 1108: 'assembly', 1109: 'speaker', 1110: 'asad', 1111: 'urged', 1112: 'send', 1113: 'parliamentary', 1114: 'delegations', 1115: 'see', 1116: 'blatant', 1117: 'there', 1118: 'expanding', 1119: 'tax', 1120: 'base', 1121: 'vital', 1122: 'masses', 1123: 'facilities', 1124: 'help', 1125: 'cut', 1126: 'burden', 1127: 'additional', 1128: 'taxes', 1129: '43', 1130: 'dengue', 1131: 'surface', 1132: 'khyber', 1133: 'pakhtunkhwa', 1134: 'health', 1135: 'authorities', 1136: 'confirmed', 1137: 'mosquito-borne', 1138: 'fever', 1139: 'detected', 1140: 'last', 1141: '24', 1142: 'presents', 1143: 'four-point', 1144: 'charter', 1145: 'formal', 1146: 'sitting', 1147: 'ecp', 1148: 'pti', 1149: 'disqualification', 1150: 'talpur', 1151: '4', 1152: 'summoned', 1153: 'interior', 1154: 'warns', 1155: 'possible', 1156: 'attacks', 1157: 'stated', 1158: 'jamiat', 1159: 'ulema-e-islam', 1160: 'fazl', 1161: '(jui-f)', 1162: 'increased', 1163: 'risks', 1164: 'internal', 1165: 'security', 1166: 'country', 1167: 'besides', 1168: 'creating', 1169: 'instability', 1170: 'adjournment', 1171: 'session', 1172: 'grand', 1173: 'democratic', 1174: 'alliance', 1175: '(gda)', 1176: 'candidate', 1177: 'moazzam', 1178: 'defeated', 1179: 'jameel', 1180: 'ahmed', 1181: 'soomro', 1182: '17', 1183: 'larkana', 1184: 'orders', 1185: 'filing', 1186: 'appeal', 1187: 'challenge', 1188: 'verdict', 1189: 'directed', 1190: 'constitute', 1191: 'high-powered', 1192: 'probe', 1193: 'identify', 1194: 'flaws', 1195: 'investigation', 1196: 'prosecution', 1197: 'acquittal', 1198: 'suspects', 1199: '‘encounter’', 1200: 'instructed', 1201: 'investigate', 1202: 'weaknesses', 1203: '(pmln)', 1204: 'accepted', 1205: '310', 1206: 'officials', 1207: 'according', 1208: 'surveillance', 1209: 'cell', 1210: '(dsc)', 1211: 'reached', 1212: '4294', 1213: 'disease', 1214: 'claimed', 1215: '23', 1216: 'lives', 1217: 'devising', 1218: 'offer', 1219: 'jobs', 1220: 'phds', 1221: 'shafqat', 1222: 'mahmood', 1223: 'lamented', 1224: 'fact', 1225: 'unemployed', 1226: 'nefarious', 1227: 'elements', 1228: 'trying', 1229: 'deter', 1230: 'path', 1231: 'progress', 1232: 'cm', 1233: 'buzdar', 1234: 'punjab', 1235: 'sardar', 1236: 'usman', 1237: 'some', 1238: 'do', 1239: 'development', 1240: 'condition', 1241: 'serious', 1242: 'report', 1243: '\"nawaz', 1244: 'improved', 1245: 'night', 1246: 'further', 1247: 'deteriorated', 1248: 'now,\"', 1249: 'submitted', 1250: 'ayaz', 1251: 'head', 1252: 'foundation', 1253: 'baba', 1254: 'guru', 1255: 'nanak', 1256: 'university', 1257: 'preparations', 1258: 'completed', 1259: 'ceremony', 1260: 'nankana', 1261: 'sahib', 1262: 'charge', 1263: 'd’', 1264: 'affaires', 1265: 'casualties', 1266: \"pakistan's\", 1267: \"d'\", 1268: 'gaurav', 1269: 'ahluwalia', 1270: 'lodge', 1271: 'strongly-worded', 1272: 'civilians', 1273: 'indiscriminate', 1274: 'cross-border', 1275: 'firing', 1276: 'yesterday', 1277: 'shc', 1278: 'set', 1279: 'aside', 1280: '14-year', 1281: 'term', 1282: 'explosives', 1283: 'hand', 1284: 'grenade', 1285: 'accused', 1286: '2018', 1287: 'fir', 1288: 'registered', 1289: 'malir', 1290: 'station', 1291: 'provincial', 1292: 'matters', 1293: 'projects', 1294: 'sheikh', 1295: 'rasheed', 1296: \"railways'\", 1297: 'ready', 1298: 'give', 1299: 'face-saving', 1300: 'opportunity', 1301: 'directives', 1302: 'respected', 1303: 'qureshi’s', 1304: 'sister', 1305: 'passes', 1306: 'away', 1307: 'her', 1308: 'funeral', 1309: 'native', 1310: 'village', 1311: 'chak-44', 1312: 'mian', 1313: 'channu', 1314: 'maryam', 1315: 'yousaf', 1316: 'abbas’s', 1317: 'remands', 1318: 'extended', 1319: 'sub', 1320: 'judice', 1321: 'accountability', 1322: 'physical', 1323: \"pmln's\", 1324: 'cousin', 1325: 'abbas', 1326: '14'}\n"
     ]
    }
   ],
   "source": [
    "counter =1\n",
    "Number_to_word = dict()  #dictionary of unique words and their unique id\n",
    "Word_to_number = dict()  #dictionary of unique ids and its corresponding word\n",
    "for element in Dictionary:\n",
    "    Number_to_word[counter] = element\n",
    "    Word_to_number[element] = counter\n",
    "    counter+=1\n",
    "# Printing both the created dictioanries for confirmation:\n",
    "print(Word_to_number)\n",
    "print()    #One line space\n",
    "print(Number_to_word)\n"
   ]
  },
  {
   "cell_type": "code",
   "execution_count": 3,
   "metadata": {},
   "outputs": [
    {
     "name": "stdout",
     "output_type": "stream",
     "text": [
      "[[1. 1. 1. ... 0. 0. 0.]\n",
      " [0. 1. 0. ... 0. 0. 0.]\n",
      " [0. 1. 0. ... 0. 0. 0.]\n",
      " ...\n",
      " [1. 0. 0. ... 0. 0. 0.]\n",
      " [0. 0. 0. ... 0. 0. 0.]\n",
      " [0. 0. 0. ... 0. 0. 0.]]\n"
     ]
    }
   ],
   "source": [
    "#term document matrix\n",
    "Term_document_matrix = np.zeros((100,len(Dictionary))) \n",
    "outer_count = 0\n",
    "\n",
    "file = 1\n",
    "while file<100:\n",
    "    file_name = \"File\"+str(file)+\".txt\"\n",
    "    readf = open(file_name,\"r\")\n",
    "    for line in readf:\n",
    "        words = line.split()\n",
    "        for word in words:\n",
    "            if(word is not '*'):\n",
    "                if word[len(word)-1]=='.':\n",
    "                    word = word[:len(word)-1]\n",
    "                if word[len(word)-1]==':':\n",
    "                    word = word[:len(word)-1]\n",
    "                if word[len(word)-1]==',':\n",
    "                    word = word[:len(word)-1]\n",
    "                word = word.lower()\n",
    "                col = Word_to_number[word]\n",
    "                Term_document_matrix[file-1][col-1] = 1\n",
    "            \n",
    "    file+=1\n",
    "print(Term_document_matrix)"
   ]
  },
  {
   "cell_type": "code",
   "execution_count": 5,
   "metadata": {},
   "outputs": [
    {
     "name": "stdout",
     "output_type": "stream",
     "text": [
      "Enter your query: NAWAZ SHARIF CASE.\n",
      "Total no. of relevent files:  14\n",
      "Most relevant data: \n",
      "\n",
      "Ailing Nawaz Sharif gets bail in Al-Azizia case on ‘medical grounds’ \n",
      " A division bench of the IHC comprising Chief Justice Athar Minallah and Justice Mohsin Akhtar Kayani approved the bail of the PML-N supremo against two surety bonds of Rs1 million each\n"
     ]
    }
   ],
   "source": [
    "\n",
    "# Getting user query:\n",
    "query = input(\"Enter your query: \")\n",
    "text = query.split(' ')\n",
    "Query_matrix = np.zeros((1,len(Dictionary)))\n",
    "for word in text:\n",
    "    if word[len(word)-1]=='.':\n",
    "        word = word[:len(word)-1]\n",
    "    word = word.lower()\n",
    "    if word in Dictionary:\n",
    "        column = Word_to_number[word]\n",
    "        Query_matrix[0][column-1] = 1\n",
    "#query matrix is formed here from user query\n",
    "\n",
    "#Resultant matrix is the result matrix of Query_matrix and Term_document_matrix:\n",
    "\n",
    "Resultant_matrix = Query_matrix.dot(Term_document_matrix.transpose())\n",
    "\n",
    "#Printing resultant matix for confirmation:\n",
    "print(Resultant_matrix)\n",
    "\n",
    "#Now finding the most relevant file:\n",
    "n=0\n",
    "count = 0\n",
    "largest = 0\n",
    "while n<100:\n",
    "    if(Resultant_matrix[0][n-1]!=0):\n",
    "        count+=1\n",
    "        if(Resultant_matrix[0][n]>largest):\n",
    "            largest = n\n",
    "    n+=1\n",
    "    \n",
    "print(\"Total no. of relevent files: \",count)\n",
    "print()     #one line space\n",
    "\n",
    "print(\"Most relevant data: \")\n",
    "file = open(\"File\"+str(largest)+\".txt\")   #Opening most relevant file:\n",
    "data = file.read()\n",
    "lines = data.split('*')\n",
    "for line in lines:\n",
    "    print(line)\n",
    "    \n"
   ]
  },
  {
   "cell_type": "code",
   "execution_count": null,
   "metadata": {},
   "outputs": [],
   "source": []
  },
  {
   "cell_type": "code",
   "execution_count": null,
   "metadata": {},
   "outputs": [],
   "source": []
  }
 ],
 "metadata": {
  "kernelspec": {
   "display_name": "Python 3",
   "language": "python",
   "name": "python3"
  },
  "language_info": {
   "codemirror_mode": {
    "name": "ipython",
    "version": 3
   },
   "file_extension": ".py",
   "mimetype": "text/x-python",
   "name": "python",
   "nbconvert_exporter": "python",
   "pygments_lexer": "ipython3",
   "version": "3.7.3"
  }
 },
 "nbformat": 4,
 "nbformat_minor": 2
}
