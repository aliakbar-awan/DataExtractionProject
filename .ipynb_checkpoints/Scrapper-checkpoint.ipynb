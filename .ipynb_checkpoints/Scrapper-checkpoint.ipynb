{
 "cells": [
  {
   "cell_type": "code",
   "execution_count": null,
   "metadata": {},
   "outputs": [],
   "source": [
    "#Scrapping a website\n",
    "import requests\n",
    "from bs4 import BeautifulSoup\n",
    "\n",
    "url = \"https://arynews.tv/en/category/international-2/\"\n",
    "webpage = requests.get(url)\n",
    "\n",
    "soup = BeautifulSoup(webpage.content,'html5lib')\n",
    "#html_file = soup.prettify()\n",
    "\n",
    "news_head = soup.find_all('a','href',)\n",
    "new_desc = soup.find_all('p')\n",
    "rows = soup.select('h2 a ')\n",
    "row = rows[0]\n",
    "name = row.select('topic-sec-item-head')\n",
    "\n",
    "print(name)\n"
   ]
  },
  {
   "cell_type": "code",
   "execution_count": null,
   "metadata": {},
   "outputs": [],
   "source": [
    "#File generator\n",
    "n = 1\n",
    "content ='1'\n",
    "while(content is not '0'):\n",
    "    file_name = \"File\" + str(n) + \".txt\"\n",
    "    #file = open(file_name,\"w+\")\n",
    "    #print(\"Enter content of file\",n,\": \")\n",
    "    n+=1\n",
    "    #content = input()\n",
    "    file.write(content)\n",
    "    #file.close()\n",
    "    \n",
    "    "
   ]
  }
 ],
 "metadata": {
  "kernelspec": {
   "display_name": "Python 3",
   "language": "python",
   "name": "python3"
  },
  "language_info": {
   "codemirror_mode": {
    "name": "ipython",
    "version": 3
   },
   "file_extension": ".py",
   "mimetype": "text/x-python",
   "name": "python",
   "nbconvert_exporter": "python",
   "pygments_lexer": "ipython3",
   "version": "3.7.3"
  }
 },
 "nbformat": 4,
 "nbformat_minor": 2
}
